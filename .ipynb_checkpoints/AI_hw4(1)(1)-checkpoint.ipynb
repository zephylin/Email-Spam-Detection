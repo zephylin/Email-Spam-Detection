{
  "nbformat": 4,
  "nbformat_minor": 0,
  "metadata": {
    "colab": {
      "provenance": []
    },
    "kernelspec": {
      "name": "python3",
      "display_name": "Python 3"
    },
    "language_info": {
      "name": "python"
    }
  },
  "cells": [
    {
      "cell_type": "markdown",
      "source": [
        "# Homework 4: Logic Reasoning"
      ],
      "metadata": {
        "id": "aD5G-KpBEd-O"
      }
    },
    {
      "cell_type": "markdown",
      "source": [
        "## Problem 1: CNF Transformation on propositional logic (15 points)\n",
        "\n",
        "Given the following logical statements, convert them into Conjunctive Normal Form (CNF):\n",
        "\n",
        "$$\n",
        "(P ∧ Q) → R\n",
        "$$\n",
        "$$\n",
        "(P ∨ Q) → (R ∧ S)\n",
        "$$\n",
        "$$\n",
        "(P → Q) ∧ (R → S)\n",
        "$$"
      ],
      "metadata": {
        "id": "4kzCg-EREeLg"
      }
    },
    {
      "cell_type": "markdown",
      "source": [
        "Answer:"
      ],
      "metadata": {
        "id": "HyOn1NVGEeOl"
      }
    },
    {
      "cell_type": "markdown",
      "source": [
        "## Problem 2: Resolution on Propositional Logic (15 points)\n",
        "Apply the resolution rule to prove or disprove the following statement:\n",
        "\n",
        "$$\n",
        "[(P ∨ Q) ∧ (¬P ∨ R) ∧ (¬R ∨ S)] → S\n",
        "$$"
      ],
      "metadata": {
        "id": "JOBuKe6OEeRt"
      }
    },
    {
      "cell_type": "markdown",
      "source": [
        "Answer:"
      ],
      "metadata": {
        "id": "LDhLszY3EeUk"
      }
    },
    {
      "cell_type": "markdown",
      "source": [
        "## Problem 3: First-Order Logic (15 points)\n",
        "\n",
        "Translate the following English sentences into first-order logic:\n",
        "\n",
        "1. All cats are mammals.\n",
        "2. Some birds can fly.\n",
        "3. Every person has a mother.\n"
      ],
      "metadata": {
        "id": "oUOzsNxYEeXs"
      }
    },
    {
      "cell_type": "markdown",
      "source": [
        "Answer:"
      ],
      "metadata": {
        "id": "kp6Dd21eEeaj"
      }
    },
    {
      "cell_type": "markdown",
      "source": [
        "## Problem 4: CNF transformation on FOL (15 points)\n",
        "\n",
        "Given the following logical statement, convert them into Conjunctive Normal Form (CNF):\n",
        "$$\n",
        "∀x (Cat(x) ∧ ∃y (Mother(y, x))) → ∃z (Mammal(z))\n",
        "$$\n",
        "\n"
      ],
      "metadata": {
        "id": "EO6kFF86FSov"
      }
    },
    {
      "cell_type": "markdown",
      "source": [
        "Answer:"
      ],
      "metadata": {
        "id": "xaNKNjScFk5_"
      }
    },
    {
      "cell_type": "markdown",
      "source": [
        "## Problem 5: Resolution on FOL (40 points)\n",
        "Here is the problem:\n",
        "\n",
        "\"Every student who studies computer science is enrolled in a programming course.\"\\\n",
        "\"All students who pass the math exam are eligible for the scholarship.\"\\\n",
        "\"John studies computer science.\"\\\n",
        "\"If John is eligible for the scholarship, then he passed the math exam.\"\n",
        "\n",
        "Based on the given statements, determine whether John is eligible for the scholarship."
      ],
      "metadata": {
        "id": "sYBL4TNuG--y"
      }
    },
    {
      "cell_type": "markdown",
      "source": [
        "Answer:"
      ],
      "metadata": {
        "id": "paBJP_oiHtEO"
      }
    }
  ]
}