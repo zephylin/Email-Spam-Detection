{
  "nbformat": 4,
  "nbformat_minor": 0,
  "metadata": {
    "colab": {
      "provenance": []
    },
    "kernelspec": {
      "name": "python3",
      "display_name": "Python 3"
    },
    "language_info": {
      "name": "python"
    }
  },
  "cells": [
    {
      "cell_type": "markdown",
      "source": [
        "# Homework 3: Search in Complex Space & Adversarial Search"
      ],
      "metadata": {
        "id": "Qlex5ulhlsap"
      }
    },
    {
      "cell_type": "markdown",
      "source": [
        "## Question 1: Hill-Climbing Basics (30 points)\n",
        "\n",
        "a\\) Define the hill-climbing search algorithm and explain its main characteristics. \\\n",
        "\n",
        "b\\) Describe the difference between the ascent hill-climbing and descent hill-climbing variants. \\\n",
        "\n",
        "c\\) Discuss the advantages and disadvantages of the hill-climbing algorithm. \\"
      ],
      "metadata": {
        "id": "VQSrfc1VlrhF"
      }
    },
    {
      "cell_type": "markdown",
      "source": [
        "__Your Answer:__"
      ],
      "metadata": {
        "id": "K5e1ft7Pmjvi"
      }
    },
    {
      "cell_type": "markdown",
      "source": [],
      "metadata": {
        "id": "ZRVxPPe2mvzI"
      }
    },
    {
      "cell_type": "markdown",
      "source": [
        "## Question 2: Local Optima (20 points)\n",
        "\n",
        "Consider the following optimization problem: \\\\\n",
        "\n",
        "Maximize the function $f(x) = -x^2 + 5x - 6$ using the hill-climbing algorithm.\n",
        "\n",
        "a) Apply the hill-climbing algorithm to find the local maximum starting from different initial states. Show the steps and the corresponding values of x and f(x).\n",
        "\n",
        "b) Discuss whether the hill-climbing algorithm is prone to getting trapped in local optima for this particular problem. If so, propose a modification to the algorithm to overcome this issue."
      ],
      "metadata": {
        "id": "SxJRMZdomzEQ"
      }
    },
    {
      "cell_type": "markdown",
      "source": [
        "__Your Answer:__"
      ],
      "metadata": {
        "id": "mkkyWvUunDjc"
      }
    },
    {
      "cell_type": "markdown",
      "source": [],
      "metadata": {
        "id": "ygv-7TxynGGO"
      }
    },
    {
      "cell_type": "markdown",
      "source": [
        "## Question 3: Minimax (20 points)\n",
        "\n",
        "In the following game tree, figure out the values for A-E."
      ],
      "metadata": {
        "id": "Dt933BNCpUsy"
      }
    },
    {
      "cell_type": "markdown",
      "source": [
        "```\n",
        "(max)          A\n",
        "              / \\\n",
        "             /   \\\n",
        "(min)      B       C\n",
        "          / \\     / \\\n",
        "         /   \\   /   \\\n",
        "(max)   D     3 6     E\n",
        "       / \\           / \\\n",
        "      2   5         4   5\n",
        "```"
      ],
      "metadata": {
        "id": "G5KuPIp5pfy5"
      }
    },
    {
      "cell_type": "markdown",
      "source": [
        "__Your Answer:__"
      ],
      "metadata": {
        "id": "GTRQCZinpfwS"
      }
    },
    {
      "cell_type": "markdown",
      "source": [],
      "metadata": {
        "id": "wQSnymYRsDWo"
      }
    },
    {
      "cell_type": "markdown",
      "source": [
        "## Question 4: $\\alpha-\\beta$ Pruning (30 points)\n",
        "\n",
        "In the following game tree, figure out which branch should be pruned."
      ],
      "metadata": {
        "id": "rNgaN7Gapftb"
      }
    },
    {
      "cell_type": "markdown",
      "source": [
        "```\n",
        "(max)          A\n",
        "              / \\\n",
        "             /   \\\n",
        "(min)      B       C\n",
        "          / \\     / \\\n",
        "         /   \\   /   \\\n",
        "(max)   D     3 1     E\n",
        "       / \\           / \\\n",
        "      2   5         4   6\n",
        "```"
      ],
      "metadata": {
        "id": "J_0ZUMrNpfq2"
      }
    },
    {
      "cell_type": "markdown",
      "source": [
        "__Your Answer:__"
      ],
      "metadata": {
        "id": "vvxYSnyZs2Qb"
      }
    },
    {
      "cell_type": "markdown",
      "source": [],
      "metadata": {
        "id": "7GCYmCLms481"
      }
    }
  ]
}