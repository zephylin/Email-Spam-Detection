{
  "nbformat": 4,
  "nbformat_minor": 0,
  "metadata": {
    "colab": {
      "provenance": []
    },
    "kernelspec": {
      "name": "python3",
      "display_name": "Python 3"
    },
    "language_info": {
      "name": "python"
    }
  },
  "cells": [
    {
      "cell_type": "markdown",
      "source": [
        "# Uninformed Search Algorithms"
      ],
      "metadata": {
        "id": "Tx8kvSrKuPeM"
      }
    },
    {
      "cell_type": "markdown",
      "source": [
        "## Question 1: Terminology (10 points)\n",
        "\n",
        "Define the following terms related to uninformed search algorithms:\n",
        "\n",
        "a) Search problem \\\n",
        "b) State space \\\n",
        "c) Search tree \\\n",
        "d) Node \\\n",
        "e) Goal state \\\n",
        "f) Path cost \\\n",
        "g) Heuristic function \\"
      ],
      "metadata": {
        "id": "E0Pq7mEjudf2"
      }
    },
    {
      "cell_type": "markdown",
      "source": [
        "### Answer:"
      ],
      "metadata": {
        "id": "mTsIdOxzvpuK"
      }
    },
    {
      "cell_type": "markdown",
      "source": [],
      "metadata": {
        "id": "5DEvDwoPusBv"
      }
    },
    {
      "cell_type": "markdown",
      "source": [
        "## Question 2: Breadth-First Search (BFS) (10 points)\n",
        "\n",
        "Consider the following directed graph:\n",
        "```\n",
        "       A\n",
        "     / | \\\n",
        "    B  C  D\n",
        "   / \\   / \\\n",
        "  E   F G   H\n",
        "\n",
        "```\n",
        "\n",
        "Apply the Breadth-First Search algorithm to find the goal state starting from node A. Show the order in which the nodes are expanded."
      ],
      "metadata": {
        "id": "XaJ_k_V1u3ig"
      }
    },
    {
      "cell_type": "markdown",
      "source": [
        "### Answer:"
      ],
      "metadata": {
        "id": "fdh9RFbIvw7x"
      }
    },
    {
      "cell_type": "markdown",
      "source": [],
      "metadata": {
        "id": "-PiQTa6Gvz6j"
      }
    },
    {
      "cell_type": "markdown",
      "source": [
        "## Question 3: Depth-First Search (DFS) (10 points)\n",
        "\n",
        "Consider the same graph as in __Question 2__. Apply the Depth-First Search algorithm to find the goal state starting from node A. Show the order in which the nodes are expanded."
      ],
      "metadata": {
        "id": "5dOVnxRJvZHm"
      }
    },
    {
      "cell_type": "markdown",
      "source": [
        "### Answer:"
      ],
      "metadata": {
        "id": "jiS-kweSvZEh"
      }
    },
    {
      "cell_type": "markdown",
      "source": [],
      "metadata": {
        "id": "VwCgdqqFvZB-"
      }
    },
    {
      "cell_type": "markdown",
      "source": [
        "## Question 4: Uniform Cost Search (UCS) (10 points)\n",
        "\n",
        "Consider the following weighted graph:\n",
        "```\n",
        "       A\n",
        "    1/1| \\1\n",
        "    B  C  D\n",
        "  1/ \\1 1/ \\1\n",
        "  E   F G   H\n",
        "```\n",
        "\n",
        "Apply the Uniform Cost Search algorithm to find the goal state starting from node A. Show the order in which the nodes are expanded and the corresponding path costs."
      ],
      "metadata": {
        "id": "t_nL-pTYvY-z"
      }
    },
    {
      "cell_type": "markdown",
      "source": [
        "### Answer:"
      ],
      "metadata": {
        "id": "nslAghutvY5r"
      }
    },
    {
      "cell_type": "markdown",
      "source": [],
      "metadata": {
        "id": "9hJ0e55fvYyO"
      }
    },
    {
      "cell_type": "markdown",
      "source": [
        "## Question 5: Comparison of Search Algorithms (10 points)\n",
        "\n",
        "Discuss the advantages and disadvantages of Breadth-First Search, Depth-First Search, and Uniform Cost Search algorithms. Compare their time complexity, space complexity, completeness, and optimality."
      ],
      "metadata": {
        "id": "Et0SPk8JwjyT"
      }
    },
    {
      "cell_type": "markdown",
      "source": [
        "### Answer:"
      ],
      "metadata": {
        "id": "qUWuX-Klwxq2"
      }
    },
    {
      "cell_type": "markdown",
      "source": [],
      "metadata": {
        "id": "vhObrtA5w6Pa"
      }
    },
    {
      "cell_type": "markdown",
      "source": [
        "## Question 6: Application of Uninformed Search Algorithms (10 points)\n",
        "\n",
        "Choose a real-world problem and describe how uninformed search algorithms can be applied to solve it. Provide details on the problem, the state space representation, and the choice of search algorithm. Explain why this algorithm is suitable for the given problem."
      ],
      "metadata": {
        "id": "p-mMYJIdw6rX"
      }
    },
    {
      "cell_type": "markdown",
      "source": [
        "### Answer:"
      ],
      "metadata": {
        "id": "N-v4U6eFxFg-"
      }
    },
    {
      "cell_type": "markdown",
      "source": [],
      "metadata": {
        "id": "E-RA0ezkxYsT"
      }
    },
    {
      "cell_type": "markdown",
      "source": [
        "## Question 7: Challenges of Uninformed Search (10 points)\n",
        "\n",
        "Identify and discuss two challenges or limitations of using uninformed search algorithms. Provide examples to support your answer."
      ],
      "metadata": {
        "id": "-D6QkddXxY9Z"
      }
    },
    {
      "cell_type": "markdown",
      "source": [
        "### Answer:"
      ],
      "metadata": {
        "id": "pZEF0ezSxann"
      }
    },
    {
      "cell_type": "markdown",
      "source": [],
      "metadata": {
        "id": "MvA-W5Vvxcvt"
      }
    },
    {
      "cell_type": "markdown",
      "source": [
        "## Question 8: Coding (30 points)\n",
        "\n",
        "Implement any one of the following uninformed search algorithms in Python: Breadth-First Search, Depth-First Search, or Uniform Cost Search."
      ],
      "metadata": {
        "id": "vkaun01YxdYd"
      }
    },
    {
      "cell_type": "code",
      "execution_count": 1,
      "metadata": {
        "id": "T8C66ArKuIus"
      },
      "outputs": [],
      "source": [
        "# Your code here"
      ]
    }
  ]
}